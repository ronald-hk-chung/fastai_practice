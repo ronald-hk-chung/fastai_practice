{
  "nbformat": 4,
  "nbformat_minor": 0,
  "metadata": {
    "colab": {
      "provenance": [],
      "toc_visible": true,
      "gpuType": "T4",
      "authorship_tag": "ABX9TyMErPh8wMPal9jyYF6Kw8ih",
      "include_colab_link": true
    },
    "kernelspec": {
      "name": "python3",
      "display_name": "Python 3"
    },
    "language_info": {
      "name": "python"
    },
    "accelerator": "GPU"
  },
  "cells": [
    {
      "cell_type": "markdown",
      "metadata": {
        "id": "view-in-github",
        "colab_type": "text"
      },
      "source": [
        "<a href=\"https://colab.research.google.com/github/ronald-hk-chung/fastai_practice/blob/main/fastai_04_summary.ipynb\" target=\"_parent\"><img src=\"https://colab.research.google.com/assets/colab-badge.svg\" alt=\"Open In Colab\"/></a>"
      ]
    },
    {
      "cell_type": "markdown",
      "source": [
        "# Neural network from first principal"
      ],
      "metadata": {
        "id": "Ey3ZSHe-kJ7_"
      }
    },
    {
      "cell_type": "markdown",
      "source": [
        "## 1. Setting up notebook"
      ],
      "metadata": {
        "id": "NZbcRQLXkgcj"
      }
    },
    {
      "cell_type": "code",
      "execution_count": 1,
      "metadata": {
        "colab": {
          "base_uri": "https://localhost:8080/"
        },
        "id": "7wAZ8b_UihaK",
        "outputId": "7f603e1a-6720-426f-83b6-cf90c07357be"
      },
      "outputs": [
        {
          "output_type": "stream",
          "name": "stdout",
          "text": [
            "\u001b[2K     \u001b[90m━━━━━━━━━━━━━━━━━━━━━━━━━━━━━━━━━━━━━━━━\u001b[0m \u001b[32m719.8/719.8 kB\u001b[0m \u001b[31m14.4 MB/s\u001b[0m eta \u001b[36m0:00:00\u001b[0m\n",
            "\u001b[2K     \u001b[90m━━━━━━━━━━━━━━━━━━━━━━━━━━━━━━━━━━━━━━━━\u001b[0m \u001b[32m521.2/521.2 kB\u001b[0m \u001b[31m54.8 MB/s\u001b[0m eta \u001b[36m0:00:00\u001b[0m\n",
            "\u001b[2K     \u001b[90m━━━━━━━━━━━━━━━━━━━━━━━━━━━━━━━━━━━━━━━━\u001b[0m \u001b[32m1.3/1.3 MB\u001b[0m \u001b[31m88.7 MB/s\u001b[0m eta \u001b[36m0:00:00\u001b[0m\n",
            "\u001b[2K     \u001b[90m━━━━━━━━━━━━━━━━━━━━━━━━━━━━━━━━━━━━━━━━\u001b[0m \u001b[32m115.3/115.3 kB\u001b[0m \u001b[31m15.5 MB/s\u001b[0m eta \u001b[36m0:00:00\u001b[0m\n",
            "\u001b[2K     \u001b[90m━━━━━━━━━━━━━━━━━━━━━━━━━━━━━━━━━━━━━━━━\u001b[0m \u001b[32m134.8/134.8 kB\u001b[0m \u001b[31m20.3 MB/s\u001b[0m eta \u001b[36m0:00:00\u001b[0m\n",
            "\u001b[2K     \u001b[90m━━━━━━━━━━━━━━━━━━━━━━━━━━━━━━━━━━━━━━━━\u001b[0m \u001b[32m1.6/1.6 MB\u001b[0m \u001b[31m87.9 MB/s\u001b[0m eta \u001b[36m0:00:00\u001b[0m\n",
            "\u001b[?25hMounted at /content/gdrive\n"
          ]
        }
      ],
      "source": [
        "! [ -e /content ] && pip install -Uqq fastbook\n",
        "import fastbook\n",
        "fastbook.setup_book()"
      ]
    },
    {
      "cell_type": "code",
      "source": [
        "from fastai.vision.all import *\n",
        "from fastbook import *"
      ],
      "metadata": {
        "id": "DNMKuRqTktV5"
      },
      "execution_count": 2,
      "outputs": []
    },
    {
      "cell_type": "code",
      "source": [
        "# To show data folder hidden in /.fastai\n",
        "!curl -s https://course19.fast.ai/setup/colab | bash"
      ],
      "metadata": {
        "colab": {
          "base_uri": "https://localhost:8080/"
        },
        "id": "p7T34_Blk5h-",
        "outputId": "ea0de9f2-8795-4690-8908-72fbbca69f96"
      },
      "execution_count": 3,
      "outputs": [
        {
          "output_type": "stream",
          "name": "stdout",
          "text": [
            "Updating fastai...\n",
            "Done.\n"
          ]
        }
      ]
    },
    {
      "cell_type": "markdown",
      "source": [
        "## 2. Demonstration of Stochastic Gradient Descent (SGD)"
      ],
      "metadata": {
        "id": "C63l4-750HqB"
      }
    },
    {
      "cell_type": "markdown",
      "source": [
        "1. *Initialize* the weights.\n",
        "1. For each X or image, use these weights to *predict* to true label\n",
        "1. Based on these predictions, calculate how good the model is (its *loss*).\n",
        "1. Calculate the *gradient*, which measures for each weight, how changing that weight would change the loss\n",
        "1. *Step* (that is, change) all the weights based on that calculation.\n",
        "1. Go back to the step 2, and *repeat* the process.\n",
        "1. Iterate until you decide to *stop* the training process (for instance, because the model is good enough or you don't want to wait any longer)."
      ],
      "metadata": {
        "id": "FRg86nnA0dd6"
      }
    },
    {
      "cell_type": "code",
      "source": [
        "gv('''\n",
        "init->predict->loss->gradient->step->stop\n",
        "step->predict[label=repeat]\n",
        "''')"
      ],
      "metadata": {
        "colab": {
          "base_uri": "https://localhost:8080/",
          "height": 125
        },
        "id": "KS9z5KRV0GVG",
        "outputId": "62ce98d9-9a80-495a-9997-b2fe45d5fc86"
      },
      "execution_count": 4,
      "outputs": [
        {
          "output_type": "execute_result",
          "data": {
            "image/svg+xml": "<?xml version=\"1.0\" encoding=\"UTF-8\" standalone=\"no\"?>\n<!DOCTYPE svg PUBLIC \"-//W3C//DTD SVG 1.1//EN\"\n \"http://www.w3.org/Graphics/SVG/1.1/DTD/svg11.dtd\">\n<!-- Generated by graphviz version 2.43.0 (0)\n -->\n<!-- Title: G Pages: 1 -->\n<svg width=\"591pt\" height=\"78pt\"\n viewBox=\"0.00 0.00 591.49 78.00\" xmlns=\"http://www.w3.org/2000/svg\" xmlns:xlink=\"http://www.w3.org/1999/xlink\">\n<g id=\"graph0\" class=\"graph\" transform=\"scale(1 1) rotate(0) translate(4 74)\">\n<title>G</title>\n<polygon fill=\"white\" stroke=\"transparent\" points=\"-4,4 -4,-74 587.49,-74 587.49,4 -4,4\"/>\n<!-- init -->\n<g id=\"node1\" class=\"node\">\n<title>init</title>\n<ellipse fill=\"none\" stroke=\"black\" cx=\"27\" cy=\"-18\" rx=\"27\" ry=\"18\"/>\n<text text-anchor=\"middle\" x=\"27\" y=\"-14.3\" font-family=\"Times,serif\" font-size=\"14.00\">init</text>\n</g>\n<!-- predict -->\n<g id=\"node2\" class=\"node\">\n<title>predict</title>\n<ellipse fill=\"none\" stroke=\"black\" cx=\"126.1\" cy=\"-18\" rx=\"35.19\" ry=\"18\"/>\n<text text-anchor=\"middle\" x=\"126.1\" y=\"-14.3\" font-family=\"Times,serif\" font-size=\"14.00\">predict</text>\n</g>\n<!-- init&#45;&gt;predict -->\n<g id=\"edge1\" class=\"edge\">\n<title>init&#45;&gt;predict</title>\n<path fill=\"none\" stroke=\"black\" d=\"M54.02,-18C62.26,-18 71.62,-18 80.78,-18\"/>\n<polygon fill=\"black\" stroke=\"black\" points=\"80.96,-21.5 90.96,-18 80.96,-14.5 80.96,-21.5\"/>\n</g>\n<!-- loss -->\n<g id=\"node3\" class=\"node\">\n<title>loss</title>\n<ellipse fill=\"none\" stroke=\"black\" cx=\"225.19\" cy=\"-52\" rx=\"27\" ry=\"18\"/>\n<text text-anchor=\"middle\" x=\"225.19\" y=\"-48.3\" font-family=\"Times,serif\" font-size=\"14.00\">loss</text>\n</g>\n<!-- predict&#45;&gt;loss -->\n<g id=\"edge2\" class=\"edge\">\n<title>predict&#45;&gt;loss</title>\n<path fill=\"none\" stroke=\"black\" d=\"M155.44,-27.93C166.61,-31.84 179.52,-36.36 191.11,-40.42\"/>\n<polygon fill=\"black\" stroke=\"black\" points=\"190.29,-43.84 200.88,-43.84 192.6,-37.23 190.29,-43.84\"/>\n</g>\n<!-- gradient -->\n<g id=\"node4\" class=\"node\">\n<title>gradient</title>\n<ellipse fill=\"none\" stroke=\"black\" cx=\"361.84\" cy=\"-52\" rx=\"39.79\" ry=\"18\"/>\n<text text-anchor=\"middle\" x=\"361.84\" y=\"-48.3\" font-family=\"Times,serif\" font-size=\"14.00\">gradient</text>\n</g>\n<!-- loss&#45;&gt;gradient -->\n<g id=\"edge3\" class=\"edge\">\n<title>loss&#45;&gt;gradient</title>\n<path fill=\"none\" stroke=\"black\" d=\"M252.47,-52C269.35,-52 291.8,-52 311.88,-52\"/>\n<polygon fill=\"black\" stroke=\"black\" points=\"312.13,-55.5 322.13,-52 312.13,-48.5 312.13,-55.5\"/>\n</g>\n<!-- step -->\n<g id=\"node5\" class=\"node\">\n<title>step</title>\n<ellipse fill=\"none\" stroke=\"black\" cx=\"465.49\" cy=\"-18\" rx=\"27\" ry=\"18\"/>\n<text text-anchor=\"middle\" x=\"465.49\" y=\"-14.3\" font-family=\"Times,serif\" font-size=\"14.00\">step</text>\n</g>\n<!-- gradient&#45;&gt;step -->\n<g id=\"edge4\" class=\"edge\">\n<title>gradient&#45;&gt;step</title>\n<path fill=\"none\" stroke=\"black\" d=\"M394.17,-41.52C405.92,-37.59 419.32,-33.11 431.25,-29.12\"/>\n<polygon fill=\"black\" stroke=\"black\" points=\"432.48,-32.4 440.85,-25.91 430.26,-25.76 432.48,-32.4\"/>\n</g>\n<!-- step&#45;&gt;predict -->\n<g id=\"edge6\" class=\"edge\">\n<title>step&#45;&gt;predict</title>\n<path fill=\"none\" stroke=\"black\" d=\"M438.29,-18C380.72,-18 242.6,-18 171.32,-18\"/>\n<polygon fill=\"black\" stroke=\"black\" points=\"171.3,-14.5 161.3,-18 171.3,-21.5 171.3,-14.5\"/>\n<text text-anchor=\"middle\" x=\"287.19\" y=\"-21.8\" font-family=\"Times,serif\" font-size=\"14.00\">repeat</text>\n</g>\n<!-- stop -->\n<g id=\"node6\" class=\"node\">\n<title>stop</title>\n<ellipse fill=\"none\" stroke=\"black\" cx=\"556.49\" cy=\"-18\" rx=\"27\" ry=\"18\"/>\n<text text-anchor=\"middle\" x=\"556.49\" y=\"-14.3\" font-family=\"Times,serif\" font-size=\"14.00\">stop</text>\n</g>\n<!-- step&#45;&gt;stop -->\n<g id=\"edge5\" class=\"edge\">\n<title>step&#45;&gt;stop</title>\n<path fill=\"none\" stroke=\"black\" d=\"M492.71,-18C501.04,-18 510.4,-18 519.3,-18\"/>\n<polygon fill=\"black\" stroke=\"black\" points=\"519.45,-21.5 529.45,-18 519.45,-14.5 519.45,-21.5\"/>\n</g>\n</g>\n</svg>\n",
            "text/plain": [
              "<graphviz.sources.Source at 0x7f5bb99c6a40>"
            ]
          },
          "metadata": {},
          "execution_count": 4
        }
      ]
    },
    {
      "cell_type": "markdown",
      "source": [
        "### Example on a Scalar function\n",
        "$$\n",
        "y = w_1 \\times X^2 + w_2 \\times X + b + noise\n",
        "$$"
      ],
      "metadata": {
        "id": "KOFxprht9qJE"
      }
    },
    {
      "cell_type": "code",
      "source": [
        "# Define input and target\n",
        "X = torch.arange(0, 20).float()\n",
        "w1, w2, b = 0.75, 0.5, 1\n",
        "y = w1*(X**2) + w2*X + b + torch.randn(20)*10\n",
        "plt.scatter(X, y);"
      ],
      "metadata": {
        "colab": {
          "base_uri": "https://localhost:8080/",
          "height": 434
        },
        "id": "RSzA011W9plk",
        "outputId": "a73b45fd-c701-4e4f-efbf-076c69e26613"
      },
      "execution_count": 5,
      "outputs": [
        {
          "output_type": "display_data",
          "data": {
            "text/plain": [
              "<Figure size 640x480 with 1 Axes>"
            ],
            "image/png": "[encoded data removed]"
          },
          "metadata": {}
        }
      ]
    },
    {
      "cell_type": "code",
      "source": [
        "# Define function f to predict\n",
        "def f(X, params):\n",
        "  w1, w2, b = params\n",
        "  return w1*X**2 + w2*X + b\n",
        "\n",
        "# define random params for initial predict\n",
        "params = torch.randn(3).requires_grad_()\n",
        "orig_params = params.clone()\n",
        "\n",
        "print(f'params: {params}')\n",
        "preds = f(X, params)\n",
        "\n",
        "# Plot out the prediction vs. true label\n",
        "fig, ax = plt.subplots()\n",
        "ax.scatter(X, y, label='true')\n",
        "ax.plot(X, preds.detach().cpu(), label='pred')\n",
        "ax.legend();"
      ],
      "metadata": {
        "colab": {
          "base_uri": "https://localhost:8080/",
          "height": 456
        },
        "id": "7JGSTPNb_as3",
        "outputId": "e64e7423-7ff7-444b-d5ae-2ed98ddecbab"
      },
      "execution_count": 6,
      "outputs": [
        {
          "output_type": "stream",
          "name": "stdout",
          "text": [
            "params: tensor([-0.7658, -0.7506,  1.3525], requires_grad=True)\n"
          ]
        },
        {
          "output_type": "display_data",
          "data": {
            "text/plain": [
              "<Figure size 640x480 with 1 Axes>"
            ],
            "image/png": "[encoded data removed]"
          },
          "metadata": {}
        }
      ]
    },
    {
      "cell_type": "code",
      "source": [
        "# define loss function (MSE - Mean Squared Error)\n",
        "def mse(preds, targets):\n",
        "  return ((preds - targets)**2).mean()"
      ],
      "metadata": {
        "id": "tFOrACuXdkGR"
      },
      "execution_count": 7,
      "outputs": []
    },
    {
      "cell_type": "code",
      "source": [
        "# Perform 1 cycle of training\n",
        "\n",
        "#Plot out the prediction vs. true label\n",
        "fig, ax = plt.subplots()\n",
        "ax.scatter(X, y, label='true')\n",
        "ax.plot(preds.detach().cpu(), label='pred 0')\n",
        "\n",
        "# Calculate Loss\n",
        "loss = mse(preds, y)\n",
        "print(f'Original Loss: {loss.item()}')\n",
        "\n",
        "# Calculate gradients\n",
        "loss.backward()\n",
        "params.grad\n",
        "print(f'params: {params.data}')\n",
        "print(f'params grad: {params.grad}')\n",
        "\n",
        "# Gradient descent\n",
        "lr = 1e-5\n",
        "params.data -= lr * params.grad\n",
        "params.grad = None\n",
        "\n",
        "# Make new prediction\n",
        "preds = f(X, params)\n",
        "print(f'New loss: {mse(preds, y)}')\n",
        "ax.plot(preds.detach().cpu(), label='pred 1')\n",
        "ax.legend();"
      ],
      "metadata": {
        "colab": {
          "base_uri": "https://localhost:8080/",
          "height": 508
        },
        "id": "8uem21ffC-Lb",
        "outputId": "e05d6c23-b2f3-414c-8f25-e37963631803"
      },
      "execution_count": 8,
      "outputs": [
        {
          "output_type": "stream",
          "name": "stdout",
          "text": [
            "Original Loss: 71675.6171875\n",
            "params: tensor([-0.7658, -0.7506,  1.3525])\n",
            "params grad: tensor([-89738.0625,  -5782.7808,   -401.7920])\n",
            "New loss: 13654.5732421875\n"
          ]
        },
        {
          "output_type": "display_data",
          "data": {
            "text/plain": [
              "<Figure size 640x480 with 1 Axes>"
            ],
            "image/png": "[encoded data removed]"
          },
          "metadata": {}
        }
      ]
    },
    {
      "cell_type": "code",
      "source": [
        "# define a training loop\n",
        "def train(params, y, lr=1e-5):\n",
        "  preds = f(X, params)\n",
        "  loss = mse(preds, y)\n",
        "  loss.backward()\n",
        "  params.data -= lr * params.grad\n",
        "  params.grad = None\n",
        "  print(f'MSE Loss: {loss} | Params: {params.data} | Grad: {params.grad}')\n",
        "  return preds, mse(preds, y)"
      ],
      "metadata": {
        "id": "zrhl-2MjEYCd"
      },
      "execution_count": 9,
      "outputs": []
    },
    {
      "cell_type": "code",
      "source": [
        "# Loop through 10 epoch for results\n",
        "result=[]\n",
        "# reinstate orig_params for demo\n",
        "params = orig_params.detach().requires_grad_()\n",
        "\n",
        "for epoch in range(10):\n",
        "  preds, mse_loss= train(params, y, lr=1e-5)\n",
        "  result.append(preds.detach().cpu().numpy())"
      ],
      "metadata": {
        "colab": {
          "base_uri": "https://localhost:8080/"
        },
        "id": "RiXvHQpBFK8b",
        "outputId": "c36f811a-bc3b-4843-96f3-a8ad384abdd7"
      },
      "execution_count": 10,
      "outputs": [
        {
          "output_type": "stream",
          "name": "stdout",
          "text": [
            "MSE Loss: 71675.6171875 | Params: tensor([ 0.1315, -0.6928,  1.3566]) | Grad: None\n",
            "MSE Loss: 13654.5732421875 | Params: tensor([ 0.5219, -0.6675,  1.3584]) | Grad: None\n",
            "MSE Loss: 2675.208984375 | Params: tensor([ 0.6917, -0.6564,  1.3592]) | Grad: None\n",
            "MSE Loss: 597.5724487304688 | Params: tensor([ 0.7656, -0.6514,  1.3596]) | Grad: None\n",
            "MSE Loss: 204.4152069091797 | Params: tensor([ 0.7977, -0.6491,  1.3598]) | Grad: None\n",
            "MSE Loss: 130.01284790039062 | Params: tensor([ 0.8116, -0.6480,  1.3599]) | Grad: None\n",
            "MSE Loss: 115.92866516113281 | Params: tensor([ 0.8177, -0.6473,  1.3600]) | Grad: None\n",
            "MSE Loss: 113.258544921875 | Params: tensor([ 0.8203, -0.6469,  1.3601]) | Grad: None\n",
            "MSE Loss: 112.74824523925781 | Params: tensor([ 0.8215, -0.6466,  1.3602]) | Grad: None\n",
            "MSE Loss: 112.64671325683594 | Params: tensor([ 0.8220, -0.6464,  1.3603]) | Grad: None\n"
          ]
        }
      ]
    },
    {
      "cell_type": "code",
      "source": [
        "for i in range(1, 10, 2):\n",
        "  plt.plot(result[i], label=f'pred {i}')\n",
        "plt.scatter(X, y)\n",
        "plt.legend();"
      ],
      "metadata": {
        "colab": {
          "base_uri": "https://localhost:8080/",
          "height": 440
        },
        "id": "CtIl-1jBXAER",
        "outputId": "6dd12673-1be8-4e93-d925-56fa6cf7f465"
      },
      "execution_count": 11,
      "outputs": [
        {
          "output_type": "display_data",
          "data": {
            "text/plain": [
              "<Figure size 640x480 with 1 Axes>"
            ],
            "image/png": "[encoded data removed]"
          },
          "metadata": {}
        }
      ]
    },
    {
      "cell_type": "markdown",
      "source": [
        "## Demonstration of SGD on MNIST"
      ],
      "metadata": {
        "id": "NdeOBTQPRgdq"
      }
    },
    {
      "cell_type": "markdown",
      "source": [
        "### Getting the data - from torchvision.datasets"
      ],
      "metadata": {
        "id": "FEIirmIQlKkY"
      }
    },
    {
      "cell_type": "code",
      "source": [
        "import torchvision\n",
        "import torch\n",
        "\n",
        "tfms = torchvision.transforms.ToTensor()\n",
        "\n",
        "# Getting the data using datasets\n",
        "train_data = torchvision.datasets.MNIST(root='data',\n",
        "                                        train=True,\n",
        "                                        download=True,\n",
        "                                        transform=tfms,\n",
        "                                        target_transform=None)\n",
        "\n",
        "valid_data = torchvision.datasets.MNIST(root='data',\n",
        "                                       train=False,\n",
        "                                       download=True,\n",
        "                                       transform=tfms,\n",
        "                                       target_transform=None)\n",
        "\n",
        "# path = untar_data(URLs.MNIST_SAMPLE)\n",
        "\n",
        "# Create Raw train_loader and test_loader\n",
        "train_loader = DataLoader(dataset=train_data,\n",
        "                          bs=32,\n",
        "                          shuffle=True,\n",
        "                          num_workers=0,\n",
        "                          pin_memory=True)\n",
        "\n",
        "valid_loader = DataLoader(dataset=valid_data,\n",
        "                          bs=32,\n",
        "                          shuffle=False,\n",
        "                          num_workers=0,\n",
        "                          pin_memory=True)\n",
        "\n",
        "# DataLoaders for fastai framework\n",
        "dls = DataLoaders(train_loader, valid_loader)"
      ],
      "metadata": {
        "id": "P9LcrRxTmU87"
      },
      "execution_count": 430,
      "outputs": []
    },
    {
      "cell_type": "code",
      "source": [
        "# Show one batch\n",
        "train_feature_batch, train_label_batch = first(train_loader)\n",
        "train_feature_batch.shape, train_label_batch.shape"
      ],
      "metadata": {
        "colab": {
          "base_uri": "https://localhost:8080/"
        },
        "id": "SwOI2laTWBhZ",
        "outputId": "53119461-6fd7-45ef-9480-941984d32185"
      },
      "execution_count": 431,
      "outputs": [
        {
          "output_type": "execute_result",
          "data": {
            "text/plain": [
              "(torch.Size([32, 1, 28, 28]), torch.Size([32]))"
            ]
          },
          "metadata": {},
          "execution_count": 431
        }
      ]
    },
    {
      "cell_type": "markdown",
      "source": [
        "## Work Flow\n",
        "```python\n",
        "for x,y in dl:\n",
        "    pred = model(x)\n",
        "    loss = loss_func(pred, y)\n",
        "    loss.backward()\n",
        "    parameters -= parameters.grad * lr\n",
        "```"
      ],
      "metadata": {
        "id": "pCB85SJnYSyD"
      }
    },
    {
      "cell_type": "markdown",
      "source": [
        "### Creating the model"
      ],
      "metadata": {
        "id": "rCEEipQgZdzd"
      }
    },
    {
      "cell_type": "code",
      "source": [
        "# Define a function to init_params with requires_grad_()\n",
        "def init_params(size, std=1.0):\n",
        "  return (torch.randn(size)*std).requires_grad_()"
      ],
      "metadata": {
        "id": "0R94-28sZo8l"
      },
      "execution_count": 432,
      "outputs": []
    },
    {
      "cell_type": "code",
      "source": [
        "# Initialize weights and bias\n",
        "w1 = init_params((28*28, 30))\n",
        "b1 = init_params(30)\n",
        "w2 = init_params((30, 10))\n",
        "b2 = init_params(10)\n",
        "\n",
        "# tryout 1 pass\n",
        "# First linear layer with 20 output features\n",
        "output = torch.flatten(train_feature_batch.squeeze(1), 1, 2)@w1 + b1\n",
        "print(f'shape after first linear: {output.shape}')\n",
        "# ReLU layer\n",
        "output = output.max(tensor(0.0))\n",
        "# Sigmoid layer\n",
        "# output = nn.Sigmoid()(output)\n",
        "print(f'shape after ReLU: {output.shape}')\n",
        "# Second linear lyaer with 20 input features and 10 output features (classifier)\n",
        "output = output@w2\n",
        "print(f'shape after second linear: {output.shape}')"
      ],
      "metadata": {
        "colab": {
          "base_uri": "https://localhost:8080/"
        },
        "id": "WCY_f5PAWKVn",
        "outputId": "7b2133c1-99f2-446f-bff2-28916a6b93d0"
      },
      "execution_count": 433,
      "outputs": [
        {
          "output_type": "stream",
          "name": "stdout",
          "text": [
            "shape after first linear: torch.Size([32, 30])\n",
            "shape after ReLU: torch.Size([32, 30])\n",
            "shape after second linear: torch.Size([32, 10])\n"
          ]
        }
      ]
    },
    {
      "cell_type": "code",
      "source": [
        "# Creating a CustomModel Class\n",
        "class CustomModel:\n",
        "  def __init__(self, w1, b1, w2, b2):\n",
        "    self.w1 = w1\n",
        "    self.b1 = b1\n",
        "    self.w2 = w2\n",
        "    self.b2 = b2\n",
        "\n",
        "  def parameters(self):\n",
        "    yield self.w1\n",
        "    yield self.b1\n",
        "    yield self.w2\n",
        "    yield self.b2\n",
        "\n",
        "  def forward(self, X):\n",
        "    # Expect X to be in shape of [batch, 28*28=784]\n",
        "    # First linear layer with 10 output features\n",
        "    output = torch.flatten(X.squeeze(1), 1, 2)@self.w1 + self.b1\n",
        "    # ReLU layer\n",
        "    # output = output.max(tensor(0.0))\n",
        "    # Sigmoid layer\n",
        "    output = nn.Sigmoid()(output)\n",
        "    # Second linear lyaer with 10 input features and 1 output features (classifier)\n",
        "    output = output@self.w2 + self.b2\n",
        "    return output\n",
        "\n",
        "  def __call__(self, X):\n",
        "    return self.forward(X)"
      ],
      "metadata": {
        "id": "HQKjofRR-ZY7"
      },
      "execution_count": 434,
      "outputs": []
    },
    {
      "cell_type": "code",
      "source": [
        "#Instantiate custom model using CustomModel Class\n",
        "custom_model = CustomModel(w1=w1,\n",
        "                           b1=b1,\n",
        "                           w2=w2,\n",
        "                           b2=b2)\n",
        "\n",
        "output = custom_model(train_feature_batch)\n",
        "output.shape"
      ],
      "metadata": {
        "colab": {
          "base_uri": "https://localhost:8080/"
        },
        "id": "urxrcHxGBaY8",
        "outputId": "d3e3ceab-94b7-4064-c236-f1c31d4ffd86"
      },
      "execution_count": 435,
      "outputs": [
        {
          "output_type": "execute_result",
          "data": {
            "text/plain": [
              "torch.Size([32, 10])"
            ]
          },
          "metadata": {},
          "execution_count": 435
        }
      ]
    },
    {
      "cell_type": "markdown",
      "source": [
        "### Creating loss function\n",
        "Cross-entropy is defined as\n",
        "$$\n",
        "L_{\\mathrm{CE}}=-\\sum_{i=1}^n t_i \\log \\left(p_i\\right), \\text { for } \\mathrm{n} \\text { classes, }\n",
        "$$\n",
        "where $t_i$ is the truth label and $p_i$ is the Softmax probability for the $i^{\\text {th }}$ class.\n",
        "\n",
        "\n",
        "Softmax is defined as:\n",
        "$$\n",
        "s\\left(x_i\\right)=\\frac{e^{x_i}}{\\sum_{j=1}^n e^{x_j}}\n",
        "$$\n",
        "\n",
        "The softmax function transforms a vector of real numbers into a vector of probabilities. Each probability in the result is in the range $0 \\ldots 1$, and the sum of the probabilities is 1 ."
      ],
      "metadata": {
        "id": "DFwSG0QzyyLz"
      }
    },
    {
      "cell_type": "code",
      "source": [
        "class CustomLoss():\n",
        "\n",
        "  def custom_softmax(y_logits):\n",
        "    y_exp = torch.exp(y_logits)\n",
        "    y_sum = y_exp.sum(dim=1)\n",
        "    return torch.div(y_exp.T, y_sum).T\n",
        "\n",
        "  def custom_CEL(y_logits, y):\n",
        "    y_probs = custom_softmax(y_logits)\n",
        "    return torch.sum(-torch.log(torch.diag(y_probs[:,y])))\n",
        "\n",
        "  def __call__(self, y_logits, y):\n",
        "    return custom_CEL(y_logits, y) / len(y_logits)\n",
        "\n",
        "loss_fn = CustomLoss()"
      ],
      "metadata": {
        "id": "JTGjBtWNa1rI"
      },
      "execution_count": 436,
      "outputs": []
    },
    {
      "cell_type": "code",
      "source": [
        "# Testing our custom CrossEntropyLoss function\n",
        "# tns = torch.tensor([1,2,3,4,5]).float()\n",
        "loss = nn.CrossEntropyLoss()(custom_model(train_feature_batch), train_label_batch)\n",
        "custom_loss = loss_fn(custom_model(train_feature_batch), train_label_batch)\n",
        "print(f'CrossEntropyloss from nn.Module: {loss} | Type: {type(loss)}')\n",
        "print(f'Custom CrossEntropyloss: {custom_loss} | Type: {type(custom_loss)}')"
      ],
      "metadata": {
        "colab": {
          "base_uri": "https://localhost:8080/"
        },
        "id": "MivOKzia7Nt3",
        "outputId": "41d5193c-eb36-4d2d-ee98-e1d59295ba23"
      },
      "execution_count": 437,
      "outputs": [
        {
          "output_type": "stream",
          "name": "stdout",
          "text": [
            "CrossEntropyloss from nn.Module: 4.696502208709717 | Type: <class 'torch.Tensor'>\n",
            "Custom CrossEntropyloss: 4.696502208709717 | Type: <class 'torch.Tensor'>\n"
          ]
        }
      ]
    },
    {
      "cell_type": "markdown",
      "source": [
        "### Creating an Accuracy Function"
      ],
      "metadata": {
        "id": "D6Ypqm99iH2W"
      }
    },
    {
      "cell_type": "code",
      "source": [
        "class CustomAcc():\n",
        "  def __call__(self, y_logits, y):\n",
        "    return (y_logits.argmax(1)==y).sum()/len(y)\n",
        "\n",
        "acc_fn = CustomAcc()"
      ],
      "metadata": {
        "id": "t4pHfINjiN4X"
      },
      "execution_count": 438,
      "outputs": []
    },
    {
      "cell_type": "code",
      "source": [
        "acc = accuracy(custom_model(train_feature_batch), train_label_batch)\n",
        "print(f'Fastai Accuracy: {acc}')\n",
        "custom_acc = acc_fn(custom_model(train_feature_batch), train_label_batch)\n",
        "print(f'Custom Accuracy: {custom_acc}')"
      ],
      "metadata": {
        "colab": {
          "base_uri": "https://localhost:8080/"
        },
        "id": "K-N_bDTDi983",
        "outputId": "e5b90e16-ff8d-4a2d-d47a-cc4e6f771ad5"
      },
      "execution_count": 439,
      "outputs": [
        {
          "output_type": "stream",
          "name": "stdout",
          "text": [
            "Fastai Accuracy: TensorBase(0.1250)\n",
            "Custom Accuracy: 0.125\n"
          ]
        }
      ]
    },
    {
      "cell_type": "markdown",
      "source": [
        "### Create an Optimizer"
      ],
      "metadata": {
        "id": "d3KyHaKG8g6p"
      }
    },
    {
      "cell_type": "code",
      "source": [
        "class BasicOptim:\n",
        "  def __init__(self, params, lr):\n",
        "    self.params = list(params)\n",
        "    self.lr = lr\n",
        "\n",
        "  def step(self, *args, **kwargs):\n",
        "    for p in self.params:\n",
        "      p.data -= p.grad.data * self.lr\n",
        "\n",
        "  def zero_grad(self, *args, **kwargs):\n",
        "    for p in self.params:\n",
        "      p.grad = None"
      ],
      "metadata": {
        "id": "nhEIrU3V8j0C"
      },
      "execution_count": 440,
      "outputs": []
    },
    {
      "cell_type": "code",
      "source": [
        "custom_opt = BasicOptim(params=custom_model.parameters(), lr=0.01)"
      ],
      "metadata": {
        "id": "OQhr6117mbYt"
      },
      "execution_count": 441,
      "outputs": []
    },
    {
      "cell_type": "code",
      "source": [
        "opt = torch.optim.SGD(params=custom_model.parameters(),\n",
        "                       lr=0.001)"
      ],
      "metadata": {
        "id": "ThHiz_gup0vF"
      },
      "execution_count": 412,
      "outputs": []
    },
    {
      "cell_type": "markdown",
      "source": [
        "### Define Function to train model"
      ],
      "metadata": {
        "id": "xgnwHdkT7F9b"
      }
    },
    {
      "cell_type": "code",
      "source": [
        "def train_step(model, dataloader, loss_fn, acc_fn, optimizer):\n",
        "  train_loss, train_acc = 0, 0\n",
        "  for batch, (X, y) in enumerate(dataloader):\n",
        "    y_pred = model(X)\n",
        "    loss = loss_fn(y_pred, y)\n",
        "    train_loss += loss\n",
        "    acc = acc_fn(y_pred, y)\n",
        "    train_acc += acc\n",
        "\n",
        "    optimizer.zero_grad()\n",
        "    loss.backward()\n",
        "    optimizer.step()\n",
        "\n",
        "  train_loss /= len(dataloader)\n",
        "  train_acc /= len(dataloader)\n",
        "\n",
        "  return train_loss, train_acc\n",
        "\n",
        "def test_step(model, dataloader, loss_fn, acc_fn):\n",
        "  test_loss, test_acc = 0, 0\n",
        "  for batch, (X, y) in enumerate(dataloader):\n",
        "    y_pred = model(X)\n",
        "    loss = loss_fn(y_pred, y)\n",
        "    test_loss += loss\n",
        "    acc = acc_fn(y_pred, y)\n",
        "    test_acc += acc\n",
        "\n",
        "  test_loss /= len(dataloader)\n",
        "  test_acc /= len(dataloader)\n",
        "\n",
        "  return test_loss, test_acc\n",
        "\n",
        "\n",
        "def train(model, dataloader, loss_fn, acc_fn, optimizer, epochs):\n",
        "  for epoch in range(epochs):\n",
        "    train_loss, train_acc = train_step(model=model,\n",
        "                                       dataloader=dataloader,\n",
        "                                       loss_fn=loss_fn,\n",
        "                                       acc_fn=acc_fn,\n",
        "                                       optimizer=optimizer)\n",
        "\n",
        "    test_loss, test_acc = test_step(model=model,\n",
        "                                    dataloader=dataloader,\n",
        "                                    loss_fn=loss_fn,\n",
        "                                    acc_fn=acc_fn)\n",
        "\n",
        "    print(f'Epoch: {epoch+1} | train_loss: {train_loss:.3f} | train_acc: {train_acc:.3f} ! test_loss: {test_loss:.3f} | test_acc: {test_acc:.3f}')\n"
      ],
      "metadata": {
        "id": "BmXo7FsZ5nhD"
      },
      "execution_count": 442,
      "outputs": []
    },
    {
      "cell_type": "code",
      "source": [
        "train(model=custom_model,\n",
        "      dataloader=train_loader,\n",
        "      loss_fn=loss_fn,\n",
        "      acc_fn=acc_fn,\n",
        "      optimizer=custom_opt,\n",
        "      epochs=20)"
      ],
      "metadata": {
        "colab": {
          "base_uri": "https://localhost:8080/"
        },
        "id": "-4J9GzFX6dQn",
        "outputId": "57cfaa7d-6ec5-4fd9-f613-db082ead5979"
      },
      "execution_count": 443,
      "outputs": [
        {
          "output_type": "stream",
          "name": "stdout",
          "text": [
            "Epoch: 1 | train_loss: 2.204 | train_acc: 0.328 ! test_loss: 1.593 | test_acc: 0.479\n",
            "Epoch: 2 | train_loss: 1.380 | train_acc: 0.548 ! test_loss: 1.221 | test_acc: 0.598\n",
            "Epoch: 3 | train_loss: 1.125 | train_acc: 0.633 ! test_loss: 1.044 | test_acc: 0.661\n",
            "Epoch: 4 | train_loss: 0.989 | train_acc: 0.681 ! test_loss: 0.938 | test_acc: 0.698\n",
            "Epoch: 5 | train_loss: 0.901 | train_acc: 0.712 ! test_loss: 0.866 | test_acc: 0.724\n",
            "Epoch: 6 | train_loss: 0.839 | train_acc: 0.733 ! test_loss: 0.812 | test_acc: 0.742\n",
            "Epoch: 7 | train_loss: 0.791 | train_acc: 0.749 ! test_loss: 0.770 | test_acc: 0.756\n",
            "Epoch: 8 | train_loss: 0.754 | train_acc: 0.762 ! test_loss: 0.736 | test_acc: 0.767\n",
            "Epoch: 9 | train_loss: 0.723 | train_acc: 0.772 ! test_loss: 0.708 | test_acc: 0.777\n",
            "Epoch: 10 | train_loss: 0.696 | train_acc: 0.781 ! test_loss: 0.684 | test_acc: 0.785\n",
            "Epoch: 11 | train_loss: 0.674 | train_acc: 0.788 ! test_loss: 0.662 | test_acc: 0.792\n",
            "Epoch: 12 | train_loss: 0.654 | train_acc: 0.794 ! test_loss: 0.643 | test_acc: 0.798\n",
            "Epoch: 13 | train_loss: 0.636 | train_acc: 0.801 ! test_loss: 0.627 | test_acc: 0.804\n",
            "Epoch: 14 | train_loss: 0.620 | train_acc: 0.806 ! test_loss: 0.612 | test_acc: 0.809\n",
            "Epoch: 15 | train_loss: 0.605 | train_acc: 0.811 ! test_loss: 0.597 | test_acc: 0.814\n",
            "Epoch: 16 | train_loss: 0.592 | train_acc: 0.815 ! test_loss: 0.585 | test_acc: 0.818\n",
            "Epoch: 17 | train_loss: 0.579 | train_acc: 0.820 ! test_loss: 0.573 | test_acc: 0.822\n",
            "Epoch: 18 | train_loss: 0.568 | train_acc: 0.824 ! test_loss: 0.562 | test_acc: 0.826\n",
            "Epoch: 19 | train_loss: 0.557 | train_acc: 0.827 ! test_loss: 0.551 | test_acc: 0.829\n",
            "Epoch: 20 | train_loss: 0.547 | train_acc: 0.830 ! test_loss: 0.542 | test_acc: 0.832\n"
          ]
        }
      ]
    },
    {
      "cell_type": "markdown",
      "source": [
        "Summary:\n",
        "We managed to create a training and testing loop from scratch using pytorch linear model by instantiating 2 sets of weights and bias.\n",
        "We also impliment loss_fn, acc_fn, optimizer using custom method."
      ],
      "metadata": {
        "id": "yx6HCClXxFsK"
      }
    },
    {
      "cell_type": "code",
      "source": [],
      "metadata": {
        "id": "249gRybZvI5A"
      },
      "execution_count": null,
      "outputs": []
    },
    {
      "cell_type": "markdown",
      "source": [],
      "metadata": {
        "id": "UHx6nVrFxEgX"
      }
    }
  ]
}